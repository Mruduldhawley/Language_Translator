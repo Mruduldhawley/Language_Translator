{
 "cells": [
  {
   "cell_type": "code",
   "execution_count": 1,
   "metadata": {},
   "outputs": [
    {
     "ename": "IndentationError",
     "evalue": "expected an indented block (<ipython-input-1-cdce96effc46>, line 16)",
     "output_type": "error",
     "traceback": [
      "\u001b[1;36m  File \u001b[1;32m\"<ipython-input-1-cdce96effc46>\"\u001b[1;36m, line \u001b[1;32m16\u001b[0m\n\u001b[1;33m    print(\"Speak 'Hello' to initiate the Translation!\")\u001b[0m\n\u001b[1;37m        ^\u001b[0m\n\u001b[1;31mIndentationError\u001b[0m\u001b[1;31m:\u001b[0m expected an indented block\n"
     ]
    }
   ],
   "source": [
    "import googletrans\n",
    "import pprint\n",
    "pprint.pprint(googletrans.LANGUAGES)\n",
    "to=input('------ > ')\n",
    "import speech_recognition as spr\n",
    "from googletrans import Translator\n",
    "from gtts import gTTS\n",
    "import os\n",
    "\n",
    "recog1 = spr.Recognizer()\n",
    "recog2 = spr.Recognizer()\n",
    "\n",
    "mc = spr.Microphone(device_index=0)\n",
    "\n",
    "with mc as source:\n",
    "print(\"Speak 'Hello' to initiate the Translation!\")\n",
    "print(\"----------------------------\")\n",
    "audio = recog1.listen(source)\n",
    "\n",
    "\n",
    "if 'hello' in recog1.recognize_google(audio):\n",
    "recog1 = spr.Recognizer()\n",
    "translator = Translator()\n",
    "from_lang = 'en'\n",
    "to_lang = 'hi'\n",
    "with mc as source:\n",
    "print('Speak a sentence...')\n",
    "audio = recog2.listen(source)\n",
    "get_sentence = recog2.recognize_google(audio)\n",
    "\n",
    "try:\n",
    "get_sentence = recog2.recognize_google(audio)\n",
    "print('Phrase to be Tranlated: '+ get_sentence)\n",
    "text_to_translate = translator.translate(get_sentence, src = from_lang, dest =\n",
    "to_lang)\n",
    "text = text_to_translate.text\n",
    "speak = gTTS(text=text, lang = to_lang, slow = False)\n",
    "speak.save(\"captured_voice.mp3\")\n",
    "os.system(\"start captured_voice.mp3\")\n",
    "except spr.UnknownValueError:\n",
    "print(\"Unable to understand the input\")\n",
    "except spr.RequestError as e:\n",
    "print(\"Unable to provide required output\".format(e))"
   ]
  },
  {
   "cell_type": "code",
   "execution_count": null,
   "metadata": {},
   "outputs": [],
   "source": []
  }
 ],
 "metadata": {
  "kernelspec": {
   "display_name": "Python 3",
   "language": "python",
   "name": "python3"
  },
  "language_info": {
   "codemirror_mode": {
    "name": "ipython",
    "version": 3
   },
   "file_extension": ".py",
   "mimetype": "text/x-python",
   "name": "python",
   "nbconvert_exporter": "python",
   "pygments_lexer": "ipython3",
   "version": "3.7.6"
  }
 },
 "nbformat": 4,
 "nbformat_minor": 4
}
